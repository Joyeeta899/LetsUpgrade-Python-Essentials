{
  "nbformat": 4,
  "nbformat_minor": 0,
  "metadata": {
    "colab": {
      "name": "Assignment Day 3- Batch 7",
      "provenance": []
    },
    "kernelspec": {
      "name": "python3",
      "display_name": "Python 3"
    }
  },
  "cells": [
    {
      "cell_type": "markdown",
      "metadata": {
        "id": "akNTocwbR1Bz",
        "colab_type": "text"
      },
      "source": [
        "**Ans (1):\n",
        "WAP to take input from user, Enter height and follow conditions.**"
      ]
    },
    {
      "cell_type": "markdown",
      "metadata": {
        "id": "mzd3xTybTBAY",
        "colab_type": "text"
      },
      "source": [
        "**a) When height is less than 1000 ft.**"
      ]
    },
    {
      "cell_type": "code",
      "metadata": {
        "id": "qVHr_OBdpkbl",
        "colab_type": "code",
        "colab": {
          "base_uri": "https://localhost:8080/",
          "height": 51
        },
        "outputId": "bcd1ff7b-7fa8-434b-b020-cacd7455055c"
      },
      "source": [
        "height = int(input(\"Please enter height: \"))\n",
        "\n",
        "if (height <= 1000):\n",
        "  print(\"You are safe to land\")\n",
        "elif (height > 1000 and height < 5000):\n",
        "  print(\"Bring down to 1000\")\n",
        "else:\n",
        "  print(\"Turn around\") \n",
        "    \n"
      ],
      "execution_count": 52,
      "outputs": [
        {
          "output_type": "stream",
          "text": [
            "Please enter height: 1000\n",
            "You are safe to land\n"
          ],
          "name": "stdout"
        }
      ]
    },
    {
      "cell_type": "markdown",
      "metadata": {
        "id": "SPLkMq1LTJ1a",
        "colab_type": "text"
      },
      "source": [
        "**b) When height is more than 1000 ft but less than 5000 ft.**"
      ]
    },
    {
      "cell_type": "code",
      "metadata": {
        "id": "7VQVNp2KSiWL",
        "colab_type": "code",
        "colab": {
          "base_uri": "https://localhost:8080/",
          "height": 51
        },
        "outputId": "df868770-08e8-44a7-c2d8-06822bd90db4"
      },
      "source": [
        "height = int(input(\"Please enter height: \"))\n",
        "\n",
        "if (height <= 1000):\n",
        "  print(\"You are safe to land\")\n",
        "elif (height > 1000 and height < 5000):\n",
        "  print(\"Bring down to 1000\")\n",
        "else:\n",
        "  print(\"Turn around\") "
      ],
      "execution_count": 51,
      "outputs": [
        {
          "output_type": "stream",
          "text": [
            "Please enter height: 4500\n",
            "Bring down to 1000\n"
          ],
          "name": "stdout"
        }
      ]
    },
    {
      "cell_type": "markdown",
      "metadata": {
        "id": "Ov2UBz2JTViy",
        "colab_type": "text"
      },
      "source": [
        "**c) When height is more than 5000 ft.**"
      ]
    },
    {
      "cell_type": "code",
      "metadata": {
        "id": "EjN1LypYSu77",
        "colab_type": "code",
        "colab": {
          "base_uri": "https://localhost:8080/",
          "height": 51
        },
        "outputId": "ded07088-4c1e-4b60-8518-1116473a6543"
      },
      "source": [
        "height = int(input(\"Please enter height: \"))\n",
        "\n",
        "if (height <= 1000):\n",
        "  print(\"You are safe to land\")\n",
        "elif (height > 1000 and height < 5000):\n",
        "  print(\"Bring down to 1000\")\n",
        "else:\n",
        "  print(\"Turn around\") "
      ],
      "execution_count": 53,
      "outputs": [
        {
          "output_type": "stream",
          "text": [
            "Please enter height: 6500\n",
            "Turn around\n"
          ],
          "name": "stdout"
        }
      ]
    },
    {
      "cell_type": "markdown",
      "metadata": {
        "id": "De0-CgyoUZPM",
        "colab_type": "text"
      },
      "source": [
        "**Ans 2) WAP to print all prime numbers between 1-200 using FOR loop and range function.**\n",
        "\n",
        "LOOP is used to perform a task where a set of statement runs until the condition is satisfied."
      ]
    },
    {
      "cell_type": "code",
      "metadata": {
        "id": "MY169qNvUu4K",
        "colab_type": "code",
        "colab": {
          "base_uri": "https://localhost:8080/",
          "height": 816
        },
        "outputId": "febe86b1-fe50-4742-d46a-d5c64dfbdb7e"
      },
      "source": [
        "start = 1\n",
        "end = 200\n",
        "for i in range (start,end):\n",
        "  for j in range (2,i):\n",
        "    if(i % j==0):\n",
        "      break\n",
        "  else:\n",
        "    print(i) \n",
        "    "
      ],
      "execution_count": 54,
      "outputs": [
        {
          "output_type": "stream",
          "text": [
            "1\n",
            "2\n",
            "3\n",
            "5\n",
            "7\n",
            "11\n",
            "13\n",
            "17\n",
            "19\n",
            "23\n",
            "29\n",
            "31\n",
            "37\n",
            "41\n",
            "43\n",
            "47\n",
            "53\n",
            "59\n",
            "61\n",
            "67\n",
            "71\n",
            "73\n",
            "79\n",
            "83\n",
            "89\n",
            "97\n",
            "101\n",
            "103\n",
            "107\n",
            "109\n",
            "113\n",
            "127\n",
            "131\n",
            "137\n",
            "139\n",
            "149\n",
            "151\n",
            "157\n",
            "163\n",
            "167\n",
            "173\n",
            "179\n",
            "181\n",
            "191\n",
            "193\n",
            "197\n",
            "199\n"
          ],
          "name": "stdout"
        }
      ]
    }
  ]
}