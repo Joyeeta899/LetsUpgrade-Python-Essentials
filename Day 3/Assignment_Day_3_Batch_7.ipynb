{
  "nbformat": 4,
  "nbformat_minor": 0,
  "metadata": {
    "colab": {
      "name": "Assignment Day 3- Batch 7",
      "provenance": []
    },
    "kernelspec": {
      "name": "python3",
      "display_name": "Python 3"
    }
  },
  "cells": [
    {
      "cell_type": "code",
      "metadata": {
        "id": "qVHr_OBdpkbl",
        "colab_type": "code",
        "colab": {
          "base_uri": "https://localhost:8080/",
          "height": 51
        },
        "outputId": "e5dfbae5-a924-484c-ce89-ce4906768dd7"
      },
      "source": [
        "height = int(input(\"Please enter height: \"))\n",
        "\n",
        "if (height <= 1000):\n",
        "  print(\"you are safe to land\")\n",
        "elif (height > 1000 and height < 5000):\n",
        "  print(\"bring down to 1000\")\n",
        "else:\n",
        "  print(\"turn around\") \n",
        "    \n"
      ],
      "execution_count": 45,
      "outputs": [
        {
          "output_type": "stream",
          "text": [
            "Please enter height: 6000\n",
            "turn around\n"
          ],
          "name": "stdout"
        }
      ]
    }
  ]
}