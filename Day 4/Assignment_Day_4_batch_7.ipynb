{
  "nbformat": 4,
  "nbformat_minor": 0,
  "metadata": {
    "colab": {
      "name": "Assignment Day 4 - batch 7",
      "provenance": []
    },
    "kernelspec": {
      "name": "python3",
      "display_name": "Python 3"
    }
  },
  "cells": [
    {
      "cell_type": "markdown",
      "metadata": {
        "id": "wP3RbA0NHENA",
        "colab_type": "text"
      },
      "source": [
        "**Program - First armstrong number - An Armstrong number is a sum of 'nth' power of each digit of a n digit number is equal to n digit of a number**"
      ]
    },
    {
      "cell_type": "code",
      "metadata": {
        "id": "6TA6mmMlQhLz",
        "colab_type": "code",
        "colab": {
          "base_uri": "https://localhost:8080/",
          "height": 35
        },
        "outputId": "2a75f5c2-723a-42d7-ad42-fa4e36d59e51"
      },
      "source": [
        "startRange = 1042000\n",
        "endRange = 702648265\n",
        "\n",
        "while (startRange <= endRange):\n",
        "  num = startRange \n",
        "  \n",
        "  # order of number\n",
        "  order = len(str(num))\n",
        "    \n",
        "  # initialize sum\n",
        "  sum = 0\n",
        "  \n",
        "  #print(startRange, digit, num, sum)\n",
        "  temp = num\n",
        "  while temp > 0:\n",
        "    digit = temp % 10\n",
        "    sum += digit ** order\n",
        "    temp //= 10\n",
        "\n",
        "  if(startRange == sum):\n",
        "    print(\"First armstorng number: \" , startRange)\n",
        "    break\n",
        "  startRange += 1"
      ],
      "execution_count": 60,
      "outputs": [
        {
          "output_type": "stream",
          "text": [
            "First armstorng number:  1741725\n"
          ],
          "name": "stdout"
        }
      ]
    }
  ]
}