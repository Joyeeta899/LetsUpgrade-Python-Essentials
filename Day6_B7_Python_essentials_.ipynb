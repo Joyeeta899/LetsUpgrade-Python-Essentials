{
  "nbformat": 4,
  "nbformat_minor": 0,
  "metadata": {
    "colab": {
      "name": "Day6 - B7 Python essentials .ipynb",
      "provenance": [],
      "collapsed_sections": []
    },
    "kernelspec": {
      "name": "python3",
      "display_name": "Python 3"
    }
  },
  "cells": [
    {
      "cell_type": "markdown",
      "metadata": {
        "id": "b-DcrcoPJmPD",
        "colab_type": "text"
      },
      "source": [
        "Ans 1)"
      ]
    },
    {
      "cell_type": "code",
      "metadata": {
        "id": "il48C5F-JieK",
        "colab_type": "code",
        "colab": {
          "base_uri": "https://localhost:8080/",
          "height": 126
        },
        "outputId": "2f3579e3-e3c2-4bd9-bf7e-de240648329f"
      },
      "source": [
        "# class bankAccount \n",
        "class bankAccount:\n",
        "  # attributes ownerName and balance\n",
        "  ownerName = \"Joyeeta\"\n",
        "  balance = 40000\n",
        "\n",
        "  # method to deposit money\n",
        "  def deposit(self, amt):\n",
        "    self.balance = self.balance + amt\n",
        "    print (self.balance)\n",
        "\n",
        "  # method to withdraw money\n",
        "  def withdraw(self, amt):\n",
        "    if(amt > self.balance):\n",
        "      print (\"Amount\", amt, \"can not be overdrawn. Balance:\", self.balance)\n",
        "    else:\n",
        "      self.balance = self.balance - amt\n",
        "      print (self.balance)\n",
        "\n",
        "# create object of class\n",
        "obj = bankAccount()\n",
        "# deposit 2000, add to balance\n",
        "obj.deposit(2000)\n",
        "# withdrawy 10000, remove from balance\n",
        "obj.withdraw(10000)\n",
        "obj.deposit(3000)\n",
        "obj.withdraw(15000)\n",
        "obj.withdraw(10000)\n",
        "obj.withdraw(15000)"
      ],
      "execution_count": 1,
      "outputs": [
        {
          "output_type": "stream",
          "text": [
            "42000\n",
            "32000\n",
            "35000\n",
            "20000\n",
            "10000\n",
            "Amount 15000 can not be overdrawn. Balance:  10000\n"
          ],
          "name": "stdout"
        }
      ]
    },
    {
      "cell_type": "markdown",
      "metadata": {
        "id": "bYTKVZ4bJpg4",
        "colab_type": "text"
      },
      "source": [
        "Ans 2)"
      ]
    },
    {
      "cell_type": "code",
      "metadata": {
        "id": "s9xYo_a0JruB",
        "colab_type": "code",
        "colab": {
          "base_uri": "https://localhost:8080/",
          "height": 54
        },
        "outputId": "31b3fa36-79d1-4157-af7e-c4472b8bb0ab"
      },
      "source": [
        "import math\n",
        "\n",
        "# class cone\n",
        "class cone: \n",
        "  # attributes Radius and Height\n",
        "  R = 2\n",
        "  h = 2\n",
        "\n",
        "  # method volume\n",
        "  def volume(self): \n",
        "    vol = (math.pi * (self.R ** 2) * self.h) / 3\n",
        "    print (\"Volume:\", round(vol, 2))\n",
        "\n",
        "  # method surface_area\n",
        "  def surface_area(self):\n",
        "    base = math.pi * (self.R ** 2)\n",
        "    side = math.pi * self.R * (math.sqrt(self.R ** 2 + self.h ** 2))\n",
        "    print (\"Surface Area:\", round(base + side, 2))\n",
        "\n",
        "# create object of class\n",
        "obj = cone()\n",
        "# get volume of cone\n",
        "obj.volume()\n",
        "# get surface area of cone\n",
        "obj.surface_area()"
      ],
      "execution_count": 2,
      "outputs": [
        {
          "output_type": "stream",
          "text": [
            "Volume: 8.38\n",
            "Surface Area: 30.34\n"
          ],
          "name": "stdout"
        }
      ]
    }
  ]
}