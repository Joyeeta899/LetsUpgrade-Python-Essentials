{
  "nbformat": 4,
  "nbformat_minor": 0,
  "metadata": {
    "colab": {
      "name": "Day8.ipynb",
      "provenance": [],
      "collapsed_sections": []
    },
    "kernelspec": {
      "name": "python3",
      "display_name": "Python 3"
    }
  },
  "cells": [
    {
      "cell_type": "markdown",
      "metadata": {
        "id": "O3r8I_3-Xo7P",
        "colab_type": "text"
      },
      "source": [
        "**Ans 1)Decorator Function for Fibonacci series**"
      ]
    },
    {
      "cell_type": "code",
      "metadata": {
        "id": "OIpZ_0GpUhx6",
        "colab_type": "code",
        "colab": {
          "base_uri": "https://localhost:8080/",
          "height": 308
        },
        "outputId": "c9dbbb30-830e-452e-f197-e2b5533976c1"
      },
      "source": [
        "def decoratorFunc(func):\n",
        "  term = int(input(\"Enter value:\"))\n",
        "  func(term)  \n",
        "\n",
        "@decoratorFunc\n",
        "def fib(nterms):\n",
        "  n1, n2 = 0, 1\n",
        "  count = 0  \n",
        "  print (\"Fibonacci series:\")\n",
        "  while count < nterms:\n",
        "    print(n1)\n",
        "    nth = n1 + n2\n",
        "    # update values\n",
        "    n1 = n2\n",
        "    n2 = nth\n",
        "    count += 1\n",
        "  \n",
        "@decoratorFunc\n",
        "def square(val):\n",
        "  print(\"Square of\", val, \"is:\", val*val)\n",
        "\n",
        "fib\n",
        "square"
      ],
      "execution_count": null,
      "outputs": [
        {
          "output_type": "stream",
          "text": [
            "Enter value:12\n",
            "Fibonacci series:\n",
            "0\n",
            "1\n",
            "1\n",
            "2\n",
            "3\n",
            "5\n",
            "8\n",
            "13\n",
            "21\n",
            "34\n",
            "55\n",
            "89\n",
            "Enter value:15\n",
            "Square of 15 is: 225\n"
          ],
          "name": "stdout"
        }
      ]
    },
    {
      "cell_type": "markdown",
      "metadata": {
        "id": "0s1-eQuEXuJJ",
        "colab_type": "text"
      },
      "source": [
        "**Ans 2)**"
      ]
    },
    {
      "cell_type": "markdown",
      "metadata": {
        "id": "G9CJxTTiyS8u",
        "colab_type": "text"
      },
      "source": [
        "**Open a file in read only mode and try\n",
        "writing something to it and handle the subsequent errors using Exception Handling.**"
      ]
    },
    {
      "cell_type": "code",
      "metadata": {
        "id": "4s4xot72wDCq",
        "colab_type": "code",
        "colab": {}
      },
      "source": [
        "# open a file with READ ONLY permission\n",
        "# test_text_file.txt is in the same directory\n",
        "fileHandle = open(\"test_text_file.txt\", \"r\")\n",
        "fileContent = fileHandle.read()\n",
        "\n",
        "# print file content\n",
        "print(fileContent)\n",
        "\n",
        "# Exception Handling\n",
        "try:\n",
        "\t# write to READ ONLY file\n",
        "\tfileHandle.write(\"Using 'w' for writing text in file\")\n",
        "except:\n",
        "\tprint(\"Oops! an error occurred.\" )\n",
        "\n",
        "\n",
        "print(\"Close file handle\")\n",
        "\n",
        "# close file handle\n",
        "fileHandle.close()\n",
        "\n",
        "\n",
        "\n",
        "# OUTPUT:\n",
        "\n",
        "# This is a test text file.\n",
        "# Oops! an error occurred.\n",
        "# Close file handle\n",
        "\n"
      ],
      "execution_count": null,
      "outputs": []
    }
  ]
}