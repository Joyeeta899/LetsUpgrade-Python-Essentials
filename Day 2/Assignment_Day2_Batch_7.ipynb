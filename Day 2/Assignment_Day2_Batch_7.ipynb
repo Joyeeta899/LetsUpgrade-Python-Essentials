{
  "nbformat": 4,
  "nbformat_minor": 0,
  "metadata": {
    "colab": {
      "name": "Assignment Day2-Batch 7",
      "provenance": []
    },
    "kernelspec": {
      "name": "python3",
      "display_name": "Python 3"
    }
  },
  "cells": [
    {
      "cell_type": "markdown",
      "metadata": {
        "id": "KXUvMGr4349V",
        "colab_type": "text"
      },
      "source": [
        "**Ans (1)** \n",
        "\n",
        "**A LIST is like a container which can hold different data types. \n",
        "It is a complex data type which is derived from LIST of different objects.\n",
        "List objects are always stored in sequence order starting from 0,1,2,3...so on.\n",
        "Every object will have some particular method.**\n",
        "\n"
      ]
    },
    {
      "cell_type": "code",
      "metadata": {
        "id": "rOiKKMn30UEj",
        "colab_type": "code",
        "colab": {
          "base_uri": "https://localhost:8080/",
          "height": 34
        },
        "outputId": "91c36bf8-a877-4f2c-8017-78e9f6538774"
      },
      "source": [
        "lst = ['apples', 11, 8123, 125.45, [7,8,9]]\n",
        "lst"
      ],
      "execution_count": 263,
      "outputs": [
        {
          "output_type": "execute_result",
          "data": {
            "text/plain": [
              "['apples', 11, 8123, 125.45, [7, 8, 9]]"
            ]
          },
          "metadata": {
            "tags": []
          },
          "execution_count": 263
        }
      ]
    },
    {
      "cell_type": "markdown",
      "metadata": {
        "id": "v5DBI06tV9to",
        "colab_type": "text"
      },
      "source": [
        "**a) Accessing values in lists**"
      ]
    },
    {
      "cell_type": "code",
      "metadata": {
        "id": "FK5SREqe2zB-",
        "colab_type": "code",
        "colab": {
          "base_uri": "https://localhost:8080/",
          "height": 34
        },
        "outputId": "aad617e8-9f83-45af-8923-ca6ac3a4c3f3"
      },
      "source": [
        "lst[2]  "
      ],
      "execution_count": 300,
      "outputs": [
        {
          "output_type": "execute_result",
          "data": {
            "text/plain": [
              "8123"
            ]
          },
          "metadata": {
            "tags": []
          },
          "execution_count": 300
        }
      ]
    },
    {
      "cell_type": "code",
      "metadata": {
        "id": "i-HdXytu27eG",
        "colab_type": "code",
        "colab": {
          "base_uri": "https://localhost:8080/",
          "height": 34
        },
        "outputId": "c0c58a3f-6976-46f6-8fa1-ef49c03a0908"
      },
      "source": [
        "lst[4][2]"
      ],
      "execution_count": 265,
      "outputs": [
        {
          "output_type": "execute_result",
          "data": {
            "text/plain": [
              "9"
            ]
          },
          "metadata": {
            "tags": []
          },
          "execution_count": 265
        }
      ]
    },
    {
      "cell_type": "markdown",
      "metadata": {
        "id": "tu_2-hpE6lkc",
        "colab_type": "text"
      },
      "source": [
        "**b) Append Function - Suppose we want to add some more objects/values to our LIST then append function is used. It always adds the value in the end.**"
      ]
    },
    {
      "cell_type": "code",
      "metadata": {
        "id": "wT3gNHZ37Cv9",
        "colab_type": "code",
        "colab": {
          "base_uri": "https://localhost:8080/",
          "height": 34
        },
        "outputId": "d8842f97-66c6-4fa2-d58a-c6fa3f1b41f7"
      },
      "source": [
        "lst.append(\"coconut\")\n",
        "lst"
      ],
      "execution_count": 266,
      "outputs": [
        {
          "output_type": "execute_result",
          "data": {
            "text/plain": [
              "['apples', 11, 8123, 125.45, [7, 8, 9], 'coconut']"
            ]
          },
          "metadata": {
            "tags": []
          },
          "execution_count": 266
        }
      ]
    },
    {
      "cell_type": "markdown",
      "metadata": {
        "id": "phlurcnN9CAF",
        "colab_type": "text"
      },
      "source": [
        "**c) Index Function - This function returns the value for specified position of an element in a sequence. It searches for given element from start of the list and returns the lowest index where the element appears.**"
      ]
    },
    {
      "cell_type": "code",
      "metadata": {
        "id": "u5ApqolA9tUO",
        "colab_type": "code",
        "colab": {
          "base_uri": "https://localhost:8080/",
          "height": 34
        },
        "outputId": "f4d2dadc-1b91-451e-bb4c-d5af7dba60f8"
      },
      "source": [
        "lst"
      ],
      "execution_count": 267,
      "outputs": [
        {
          "output_type": "execute_result",
          "data": {
            "text/plain": [
              "['apples', 11, 8123, 125.45, [7, 8, 9], 'coconut']"
            ]
          },
          "metadata": {
            "tags": []
          },
          "execution_count": 267
        }
      ]
    },
    {
      "cell_type": "code",
      "metadata": {
        "id": "Po0gz5fb-Lkr",
        "colab_type": "code",
        "colab": {
          "base_uri": "https://localhost:8080/",
          "height": 34
        },
        "outputId": "3635a817-b38d-4e3b-fdcb-fc1f72fc7f30"
      },
      "source": [
        "lst.index(125.45)"
      ],
      "execution_count": 274,
      "outputs": [
        {
          "output_type": "execute_result",
          "data": {
            "text/plain": [
              "3"
            ]
          },
          "metadata": {
            "tags": []
          },
          "execution_count": 274
        }
      ]
    },
    {
      "cell_type": "code",
      "metadata": {
        "id": "su5o8TUafnzm",
        "colab_type": "code",
        "colab": {
          "base_uri": "https://localhost:8080/",
          "height": 35
        },
        "outputId": "59735340-2f24-4c2d-a2be-7688c0bbe913"
      },
      "source": [
        "lst[-1]\n"
      ],
      "execution_count": 301,
      "outputs": [
        {
          "output_type": "execute_result",
          "data": {
            "application/vnd.google.colaboratory.intrinsic+json": {
              "type": "string"
            },
            "text/plain": [
              "'coconut'"
            ]
          },
          "metadata": {
            "tags": []
          },
          "execution_count": 301
        }
      ]
    },
    {
      "cell_type": "code",
      "metadata": {
        "id": "1xgizqn3hAjN",
        "colab_type": "code",
        "colab": {
          "base_uri": "https://localhost:8080/",
          "height": 34
        },
        "outputId": "e15a7c69-7c63-4895-fc5f-14312b023d54"
      },
      "source": [
        "lst[-5]"
      ],
      "execution_count": 302,
      "outputs": [
        {
          "output_type": "execute_result",
          "data": {
            "text/plain": [
              "11"
            ]
          },
          "metadata": {
            "tags": []
          },
          "execution_count": 302
        }
      ]
    },
    {
      "cell_type": "code",
      "metadata": {
        "id": "f0A-RI1thJU8",
        "colab_type": "code",
        "colab": {
          "base_uri": "https://localhost:8080/",
          "height": 34
        },
        "outputId": "948b2428-12bf-4c64-ffe4-67bb8db66da4"
      },
      "source": [
        "lst[1]"
      ],
      "execution_count": 246,
      "outputs": [
        {
          "output_type": "execute_result",
          "data": {
            "text/plain": [
              "11"
            ]
          },
          "metadata": {
            "tags": []
          },
          "execution_count": 246
        }
      ]
    },
    {
      "cell_type": "code",
      "metadata": {
        "id": "9iqbbGOGhQ-c",
        "colab_type": "code",
        "colab": {
          "base_uri": "https://localhost:8080/",
          "height": 35
        },
        "outputId": "b60eab03-3e6d-4e4b-a293-ab598bebd48c"
      },
      "source": [
        "lst[-1][2]"
      ],
      "execution_count": 247,
      "outputs": [
        {
          "output_type": "execute_result",
          "data": {
            "application/vnd.google.colaboratory.intrinsic+json": {
              "type": "string"
            },
            "text/plain": [
              "'c'"
            ]
          },
          "metadata": {
            "tags": []
          },
          "execution_count": 247
        }
      ]
    },
    {
      "cell_type": "markdown",
      "metadata": {
        "id": "RRdAn7hUWO2d",
        "colab_type": "text"
      },
      "source": [
        "**d) Updating Lists**"
      ]
    },
    {
      "cell_type": "code",
      "metadata": {
        "id": "6PKMtFEbWlkE",
        "colab_type": "code",
        "colab": {
          "base_uri": "https://localhost:8080/",
          "height": 34
        },
        "outputId": "3a172296-ee03-47b9-a5cb-56fc80529d88"
      },
      "source": [
        "lst"
      ],
      "execution_count": 303,
      "outputs": [
        {
          "output_type": "execute_result",
          "data": {
            "text/plain": [
              "['apples', 11, 8123, 125.45, [7, 8, 9], 'coconut']"
            ]
          },
          "metadata": {
            "tags": []
          },
          "execution_count": 303
        }
      ]
    },
    {
      "cell_type": "code",
      "metadata": {
        "id": "RpOXpBTkW5dm",
        "colab_type": "code",
        "colab": {
          "base_uri": "https://localhost:8080/",
          "height": 34
        },
        "outputId": "10ec2b2d-58e1-44cb-8215-dd1498cd4c76"
      },
      "source": [
        "lst[2] = \"oranges\"        This will add a new element in list\n",
        "lst"
      ],
      "execution_count": 305,
      "outputs": [
        {
          "output_type": "execute_result",
          "data": {
            "text/plain": [
              "['apples', 11, 'oranges', 125.45, [7, 8, 9], 'coconut']"
            ]
          },
          "metadata": {
            "tags": []
          },
          "execution_count": 305
        }
      ]
    },
    {
      "cell_type": "markdown",
      "metadata": {
        "id": "dcH-rHg9XTEa",
        "colab_type": "text"
      },
      "source": [
        "**e) Delete list elements**"
      ]
    },
    {
      "cell_type": "code",
      "metadata": {
        "id": "CIOdXgyBXcpl",
        "colab_type": "code",
        "colab": {
          "base_uri": "https://localhost:8080/",
          "height": 34
        },
        "outputId": "9d5718a1-d4dd-4564-f992-d884a7c9081b"
      },
      "source": [
        "lst = ['apples', 11, 'oranges', 125.45, [7, 8, 9], 'coconut']\n",
        "lst.remove(11)\n",
        "lst"
      ],
      "execution_count": 313,
      "outputs": [
        {
          "output_type": "execute_result",
          "data": {
            "text/plain": [
              "['apples', 'oranges', 125.45, [7, 8, 9], 'coconut']"
            ]
          },
          "metadata": {
            "tags": []
          },
          "execution_count": 313
        }
      ]
    },
    {
      "cell_type": "code",
      "metadata": {
        "id": "7I5vjlQAYo-F",
        "colab_type": "code",
        "colab": {
          "base_uri": "https://localhost:8080/",
          "height": 34
        },
        "outputId": "141396c0-cf61-4db9-e8ed-7b27978a799d"
      },
      "source": [
        "lst = ['apples', 11, 'oranges', 125.45, [7, 8, 9], 'coconut']\n",
        "del lst[3]\n",
        "lst"
      ],
      "execution_count": 314,
      "outputs": [
        {
          "output_type": "execute_result",
          "data": {
            "text/plain": [
              "['apples', 11, 'oranges', [7, 8, 9], 'coconut']"
            ]
          },
          "metadata": {
            "tags": []
          },
          "execution_count": 314
        }
      ]
    },
    {
      "cell_type": "markdown",
      "metadata": {
        "id": "KSUwfcBdiEmP",
        "colab_type": "text"
      },
      "source": [
        "**Ans(2)**\n",
        "\n",
        "**DICTIONARY- It is a key value pair data structure. It is an object of Dictionary class in Python. It is expressed as (key:value). While the values can be of any data type and can repeat, keys must be of immutable type(string, number or Tuple) with immutable elements and must be unique.\n",
        "Syntax for retrieving value from a dictionary - dict.get('name')**"
      ]
    },
    {
      "cell_type": "code",
      "metadata": {
        "id": "TWEr1un5jLd8",
        "colab_type": "code",
        "colab": {
          "base_uri": "https://localhost:8080/",
          "height": 102
        },
        "outputId": "195d8c4f-2e92-44a0-b3e5-73b0cbb2bacd"
      },
      "source": [
        "dict= {\"name\":\"Joyeeta\", \"telephone\":\"22816045\", \"grade\":\"A+\", \"rank\":\"1\", \"dept\":\"MSME\"}\n",
        "dict"
      ],
      "execution_count": 328,
      "outputs": [
        {
          "output_type": "execute_result",
          "data": {
            "text/plain": [
              "{'dept': 'MSME',\n",
              " 'grade': 'A+',\n",
              " 'name': 'Joyeeta',\n",
              " 'rank': '1',\n",
              " 'telephone': '22816045'}"
            ]
          },
          "metadata": {
            "tags": []
          },
          "execution_count": 328
        }
      ]
    },
    {
      "cell_type": "markdown",
      "metadata": {
        "id": "XrBLHPC6ZETU",
        "colab_type": "text"
      },
      "source": [
        "**a) Accessing values in Dictionary**"
      ]
    },
    {
      "cell_type": "code",
      "metadata": {
        "id": "5cZnlVh0lnzk",
        "colab_type": "code",
        "colab": {
          "base_uri": "https://localhost:8080/",
          "height": 35
        },
        "outputId": "d19ca04a-9321-49c1-c436-fa17e29c8b0d"
      },
      "source": [
        "dict['name']"
      ],
      "execution_count": 330,
      "outputs": [
        {
          "output_type": "execute_result",
          "data": {
            "application/vnd.google.colaboratory.intrinsic+json": {
              "type": "string"
            },
            "text/plain": [
              "'Joyeeta'"
            ]
          },
          "metadata": {
            "tags": []
          },
          "execution_count": 330
        }
      ]
    },
    {
      "cell_type": "markdown",
      "metadata": {
        "id": "uvNtHFmdZmLd",
        "colab_type": "text"
      },
      "source": [
        "**b) Updating Dictionary - This function will add a new element in dictionary**"
      ]
    },
    {
      "cell_type": "code",
      "metadata": {
        "id": "aXyEOnjWoQFr",
        "colab_type": "code",
        "colab": {
          "base_uri": "https://localhost:8080/",
          "height": 119
        },
        "outputId": "ee0ff8b5-44d8-437c-edc2-5eb092975d19"
      },
      "source": [
        "dict[\"City\"]= \"Delhi\"\n",
        "dict"
      ],
      "execution_count": 331,
      "outputs": [
        {
          "output_type": "execute_result",
          "data": {
            "text/plain": [
              "{'City': 'Delhi',\n",
              " 'dept': 'MSME',\n",
              " 'grade': 'A+',\n",
              " 'name': 'Joyeeta',\n",
              " 'rank': '1',\n",
              " 'telephone': '22816045'}"
            ]
          },
          "metadata": {
            "tags": []
          },
          "execution_count": 331
        }
      ]
    },
    {
      "cell_type": "markdown",
      "metadata": {
        "id": "XaISo1zVaUMM",
        "colab_type": "text"
      },
      "source": [
        "**c) Delete dictionary elements**"
      ]
    },
    {
      "cell_type": "code",
      "metadata": {
        "id": "b6DAq5JDarTY",
        "colab_type": "code",
        "colab": {
          "base_uri": "https://localhost:8080/",
          "height": 102
        },
        "outputId": "a32e4acf-9db7-4192-8423-67d2b79ca70a"
      },
      "source": [
        "dict = {\"name\":\"Joyeeta\", \"telephone\":\"22816045\", \"grade\":\"A+\", \"rank\":\"1\", \"dept\":\"MSME\"}\n",
        "dict\n"
      ],
      "execution_count": 387,
      "outputs": [
        {
          "output_type": "execute_result",
          "data": {
            "text/plain": [
              "{'dept': 'MSME',\n",
              " 'grade': 'A+',\n",
              " 'name': 'Joyeeta',\n",
              " 'rank': '1',\n",
              " 'telephone': '22816045'}"
            ]
          },
          "metadata": {
            "tags": []
          },
          "execution_count": 387
        }
      ]
    },
    {
      "cell_type": "code",
      "metadata": {
        "id": "iUXbBF2gn6Dz",
        "colab_type": "code",
        "colab": {
          "base_uri": "https://localhost:8080/",
          "height": 34
        },
        "outputId": "4e217761-2031-42e3-caf1-0c6c6aedef7e"
      },
      "source": [
        "dict.pop(\"telephone\")\n",
        "dict"
      ],
      "execution_count": 352,
      "outputs": [
        {
          "output_type": "execute_result",
          "data": {
            "text/plain": [
              "{'dept': 'MSME', 'grade': 'A+', 'name': 'Joyeeta', 'rank': '1'}"
            ]
          },
          "metadata": {
            "tags": []
          },
          "execution_count": 352
        }
      ]
    },
    {
      "cell_type": "code",
      "metadata": {
        "id": "53Zxia1qm4vU",
        "colab_type": "code",
        "colab": {
          "base_uri": "https://localhost:8080/",
          "height": 34
        },
        "outputId": "4b6ba590-76a3-4e4d-a22e-b75ea31e322e"
      },
      "source": [
        "dict.items()"
      ],
      "execution_count": 250,
      "outputs": [
        {
          "output_type": "execute_result",
          "data": {
            "text/plain": [
              "dict_items([('name', 'Joyeeta'), ('Tel.No', '22816045'), ('Grades', 'A+'), ('Rank', '1'), ('Dept', 'MSME')])"
            ]
          },
          "metadata": {
            "tags": []
          },
          "execution_count": 250
        }
      ]
    },
    {
      "cell_type": "markdown",
      "metadata": {
        "id": "Ob9b_RF2glj7",
        "colab_type": "text"
      },
      "source": [
        "**d) Dictionary keys**"
      ]
    },
    {
      "cell_type": "code",
      "metadata": {
        "id": "26sgHp_jns3b",
        "colab_type": "code",
        "colab": {
          "base_uri": "https://localhost:8080/",
          "height": 34
        },
        "outputId": "2b758fb9-f120-47d7-ec62-3b33c7f7d069"
      },
      "source": [
        "dict.keys()"
      ],
      "execution_count": 251,
      "outputs": [
        {
          "output_type": "execute_result",
          "data": {
            "text/plain": [
              "dict_keys(['name', 'Tel.No', 'Grades', 'Rank', 'Dept'])"
            ]
          },
          "metadata": {
            "tags": []
          },
          "execution_count": 251
        }
      ]
    },
    {
      "cell_type": "markdown",
      "metadata": {
        "id": "DDYsDvGiqt1L",
        "colab_type": "text"
      },
      "source": [
        "**e) Dictionary length**"
      ]
    },
    {
      "cell_type": "code",
      "metadata": {
        "id": "kh2meFVPqxDr",
        "colab_type": "code",
        "colab": {
          "base_uri": "https://localhost:8080/",
          "height": 34
        },
        "outputId": "4b640da2-e1ba-4f75-a69f-18e4752aa9d4"
      },
      "source": [
        "dict = {\"name\":\"Joyeeta\", \"telephone\":\"22816045\", \"grade\":\"A+\", \"rank\":\"1\", \"dept\":\"MSME\"}\n",
        "len(dict)"
      ],
      "execution_count": 388,
      "outputs": [
        {
          "output_type": "execute_result",
          "data": {
            "text/plain": [
              "5"
            ]
          },
          "metadata": {
            "tags": []
          },
          "execution_count": 388
        }
      ]
    },
    {
      "cell_type": "markdown",
      "metadata": {
        "id": "UhwHq8HGpph6",
        "colab_type": "text"
      },
      "source": [
        "**Ans (3)**\n",
        "\n",
        "**SETS - It is used in storing unique values in Python,\n",
        "Sets are complex data structures, Sets are a class in Python whose object can be derived in python. It is an unordered collection of data types. It is iterable, mutable and has no duplicate items. Sets are mostly used for findng UNION, disjoin, and finding commons and uncommons in Python data type.**"
      ]
    },
    {
      "cell_type": "code",
      "metadata": {
        "id": "58LILK4TqxNV",
        "colab_type": "code",
        "colab": {
          "base_uri": "https://localhost:8080/",
          "height": 34
        },
        "outputId": "13c80305-d3be-4169-ff4a-7e535febb7da"
      },
      "source": [
        "set = {\"joyeeta\", \"letsupgrade\",5,6,8,2,9,11,8,5,2 }\n",
        "set"
      ],
      "execution_count": 360,
      "outputs": [
        {
          "output_type": "execute_result",
          "data": {
            "text/plain": [
              "{11, 2, 5, 6, 8, 9, 'joyeeta', 'letsupgrade'}"
            ]
          },
          "metadata": {
            "tags": []
          },
          "execution_count": 360
        }
      ]
    },
    {
      "cell_type": "markdown",
      "metadata": {
        "id": "-rxOBTU3kkxK",
        "colab_type": "text"
      },
      "source": [
        "**a) issubset- It will tell you whether elements are present in the given set or not. It gives answer in True/False.**"
      ]
    },
    {
      "cell_type": "code",
      "metadata": {
        "id": "eM7UhhNKimI1",
        "colab_type": "code",
        "colab": {
          "base_uri": "https://localhost:8080/",
          "height": 34
        },
        "outputId": "f5a26e29-66f5-4222-d275-9ada0dc6197e"
      },
      "source": [
        "set1 = {\"letsupgrade\",11}\n",
        "set1.issubset(set)"
      ],
      "execution_count": 365,
      "outputs": [
        {
          "output_type": "execute_result",
          "data": {
            "text/plain": [
              "True"
            ]
          },
          "metadata": {
            "tags": []
          },
          "execution_count": 365
        }
      ]
    },
    {
      "cell_type": "code",
      "metadata": {
        "id": "eb2hGqiX6fjY",
        "colab_type": "code",
        "colab": {
          "base_uri": "https://localhost:8080/",
          "height": 34
        },
        "outputId": "009f0461-5845-4109-b751-b44d1b9cc912"
      },
      "source": [
        "set1 = {\"joyeeta\", 2}\n",
        "set1.issubset(set)"
      ],
      "execution_count": 366,
      "outputs": [
        {
          "output_type": "execute_result",
          "data": {
            "text/plain": [
              "True"
            ]
          },
          "metadata": {
            "tags": []
          },
          "execution_count": 366
        }
      ]
    },
    {
      "cell_type": "markdown",
      "metadata": {
        "id": "OpmmoeyDlE4g",
        "colab_type": "text"
      },
      "source": [
        "**b) Adding elements in sets**"
      ]
    },
    {
      "cell_type": "code",
      "metadata": {
        "id": "6ILRn-W6mZ0R",
        "colab_type": "code",
        "colab": {
          "base_uri": "https://localhost:8080/",
          "height": 34
        },
        "outputId": "c530f275-17a1-4e90-ecb4-78630f38c69d"
      },
      "source": [
        "set1.add(\"Amit\") \n",
        "set1"
      ],
      "execution_count": 367,
      "outputs": [
        {
          "output_type": "execute_result",
          "data": {
            "text/plain": [
              "{2, 'Amit', 'joyeeta'}"
            ]
          },
          "metadata": {
            "tags": []
          },
          "execution_count": 367
        }
      ]
    },
    {
      "cell_type": "markdown",
      "metadata": {
        "id": "_vWba-qLmpAl",
        "colab_type": "text"
      },
      "source": [
        "**c) Difference**"
      ]
    },
    {
      "cell_type": "code",
      "metadata": {
        "id": "9U-iMEN9mbK6",
        "colab_type": "code",
        "colab": {
          "base_uri": "https://localhost:8080/",
          "height": 34
        },
        "outputId": "10e7aa77-00b5-4c3a-d1a3-1957d3f92336"
      },
      "source": [
        "set1 = {1, 2, 3, 4, 5}\n",
        "set2 = {4, 5, 6, 7, 8} \n",
        "set3 = set1.difference(set2)\n",
        "set3"
      ],
      "execution_count": 368,
      "outputs": [
        {
          "output_type": "execute_result",
          "data": {
            "text/plain": [
              "{1, 2, 3}"
            ]
          },
          "metadata": {
            "tags": []
          },
          "execution_count": 368
        }
      ]
    },
    {
      "cell_type": "markdown",
      "metadata": {
        "id": "o-WkKc-OnFNR",
        "colab_type": "text"
      },
      "source": [
        "**d) Clearing sets**"
      ]
    },
    {
      "cell_type": "code",
      "metadata": {
        "id": "7nzjMEy1nEup",
        "colab_type": "code",
        "colab": {
          "base_uri": "https://localhost:8080/",
          "height": 34
        },
        "outputId": "dfbbfc7d-b7ae-4546-96bd-a791b3421ba6"
      },
      "source": [
        "set1 = {1, 2, 3, 4, 5}\n",
        "set1.clear() \n",
        "set1"
      ],
      "execution_count": 370,
      "outputs": [
        {
          "output_type": "execute_result",
          "data": {
            "text/plain": [
              "set()"
            ]
          },
          "metadata": {
            "tags": []
          },
          "execution_count": 370
        }
      ]
    },
    {
      "cell_type": "markdown",
      "metadata": {
        "id": "ZkxVBJGPnXl4",
        "colab_type": "text"
      },
      "source": [
        "**e) Intersection**"
      ]
    },
    {
      "cell_type": "code",
      "metadata": {
        "id": "Nm-OsMhLnYDQ",
        "colab_type": "code",
        "colab": {
          "base_uri": "https://localhost:8080/",
          "height": 34
        },
        "outputId": "0c640d3c-681e-41ab-e83c-6fa12d25fef9"
      },
      "source": [
        "set1 = {1, 2, 3, 4, 5}\n",
        "set2 = {4, 5, 6, 7, 8} \n",
        "set3 = set1.intersection(set2)\n",
        "set3"
      ],
      "execution_count": 371,
      "outputs": [
        {
          "output_type": "execute_result",
          "data": {
            "text/plain": [
              "{4, 5}"
            ]
          },
          "metadata": {
            "tags": []
          },
          "execution_count": 371
        }
      ]
    },
    {
      "cell_type": "markdown",
      "metadata": {
        "id": "mIHcX28DK3NU",
        "colab_type": "text"
      },
      "source": [
        "**Ans (4)**\n",
        "\n",
        "**TUPLE- Tuples are ordered immutable collection of objects. Once the data is written, it stays the same forever. It cannot be changed.**"
      ]
    },
    {
      "cell_type": "markdown",
      "metadata": {
        "id": "JtBtrFE0oC6w",
        "colab_type": "text"
      },
      "source": [
        "**a) Accessing values**"
      ]
    },
    {
      "cell_type": "code",
      "metadata": {
        "id": "pk1fKXMSLcV5",
        "colab_type": "code",
        "colab": {
          "base_uri": "https://localhost:8080/",
          "height": 34
        },
        "outputId": "9ff8a715-ecd9-4716-bd93-db4d3c0fad58"
      },
      "source": [
        "tup = (\"joyeeta\", \"&\", \"letsupgrade.in\")\n",
        "tup.count(\"&\")"
      ],
      "execution_count": 280,
      "outputs": [
        {
          "output_type": "execute_result",
          "data": {
            "text/plain": [
              "1"
            ]
          },
          "metadata": {
            "tags": []
          },
          "execution_count": 280
        }
      ]
    },
    {
      "cell_type": "markdown",
      "metadata": {
        "id": "UYVmAbkRo0xY",
        "colab_type": "text"
      },
      "source": [
        "**b) Indexing**"
      ]
    },
    {
      "cell_type": "code",
      "metadata": {
        "id": "AmYTFrn8MS45",
        "colab_type": "code",
        "colab": {
          "base_uri": "https://localhost:8080/",
          "height": 34
        },
        "outputId": "82654a1a-5d87-427e-c895-456b0641b770"
      },
      "source": [
        "tup.index(\"letsupgrade.in\")"
      ],
      "execution_count": 282,
      "outputs": [
        {
          "output_type": "execute_result",
          "data": {
            "text/plain": [
              "2"
            ]
          },
          "metadata": {
            "tags": []
          },
          "execution_count": 282
        }
      ]
    },
    {
      "cell_type": "markdown",
      "metadata": {
        "id": "WCvIur0MnVXq",
        "colab_type": "text"
      },
      "source": [
        "**c) Updating tuples**"
      ]
    },
    {
      "cell_type": "code",
      "metadata": {
        "id": "dlftOyrAnuva",
        "colab_type": "code",
        "colab": {
          "base_uri": "https://localhost:8080/",
          "height": 34
        },
        "outputId": "585c3fca-a5f3-4373-db12-c63db379a530"
      },
      "source": [
        "tup1 = (\"joyeeta\", \"&\", \"letsupgrade.in\")\n",
        "tup2 = (\"abc\", \"xyz\")\n",
        "tup3 = tup1 + tup2\n",
        "tup3"
      ],
      "execution_count": 376,
      "outputs": [
        {
          "output_type": "execute_result",
          "data": {
            "text/plain": [
              "('joyeeta', '&', 'letsupgrade.in', 'abc', 'xyz')"
            ]
          },
          "metadata": {
            "tags": []
          },
          "execution_count": 376
        }
      ]
    },
    {
      "cell_type": "markdown",
      "metadata": {
        "id": "Odk2XeQ3oddy",
        "colab_type": "text"
      },
      "source": [
        "**d) Delete tuple elements**"
      ]
    },
    {
      "cell_type": "code",
      "metadata": {
        "id": "QazrACDUnveo",
        "colab_type": "code",
        "colab": {}
      },
      "source": [
        "tup = (\"joyeeta\", \"&\", \"letsupgrade.in\")\n",
        "del tup"
      ],
      "execution_count": 375,
      "outputs": []
    },
    {
      "cell_type": "markdown",
      "metadata": {
        "id": "C7V5M14PoxBL",
        "colab_type": "text"
      },
      "source": [
        "**e) Slicing**"
      ]
    },
    {
      "cell_type": "code",
      "metadata": {
        "id": "o8_btYK8pBS7",
        "colab_type": "code",
        "colab": {
          "base_uri": "https://localhost:8080/",
          "height": 34
        },
        "outputId": "e0fe8986-9284-425d-df18-90cda2ed9730"
      },
      "source": [
        "tup1 = (\"joyeeta\", \"&\", \"letsupgrade.in\")\n",
        "tup2 = tup1[1:]\n",
        "tup2"
      ],
      "execution_count": 380,
      "outputs": [
        {
          "output_type": "execute_result",
          "data": {
            "text/plain": [
              "('&', 'letsupgrade.in')"
            ]
          },
          "metadata": {
            "tags": []
          },
          "execution_count": 380
        }
      ]
    },
    {
      "cell_type": "markdown",
      "metadata": {
        "id": "_CQPZyK2NB68",
        "colab_type": "text"
      },
      "source": [
        "**Ans (5)**\n",
        "\n",
        "**STRINGS- strings are arrays of bytes representing unicode characters.**"
      ]
    },
    {
      "cell_type": "code",
      "metadata": {
        "id": "rilTk_G1NsNh",
        "colab_type": "code",
        "colab": {}
      },
      "source": [
        "country = \"INDIA\"\n",
        "name = \"Jeff Besos\"\n",
        "company = \"Amazon\"\n",
        "des = \"CEO\"\n",
        "assets = \"$200 Billion\"\n"
      ],
      "execution_count": 289,
      "outputs": []
    },
    {
      "cell_type": "markdown",
      "metadata": {
        "id": "Ucycg1d9pVew",
        "colab_type": "text"
      },
      "source": [
        "**a) Accessing**"
      ]
    },
    {
      "cell_type": "code",
      "metadata": {
        "id": "6rzIhH3lOOzp",
        "colab_type": "code",
        "colab": {
          "base_uri": "https://localhost:8080/",
          "height": 35
        },
        "outputId": "3e8f01e6-faec-4c7e-fff9-0d1bafed35a5"
      },
      "source": [
        "country"
      ],
      "execution_count": 284,
      "outputs": [
        {
          "output_type": "execute_result",
          "data": {
            "application/vnd.google.colaboratory.intrinsic+json": {
              "type": "string"
            },
            "text/plain": [
              "'INDIA'"
            ]
          },
          "metadata": {
            "tags": []
          },
          "execution_count": 284
        }
      ]
    },
    {
      "cell_type": "markdown",
      "metadata": {
        "id": "rFVrs1-dpYWU",
        "colab_type": "text"
      },
      "source": [
        "**b) Concatinating strings**"
      ]
    },
    {
      "cell_type": "code",
      "metadata": {
        "id": "ztx3eh01Tv6_",
        "colab_type": "code",
        "colab": {
          "base_uri": "https://localhost:8080/",
          "height": 35
        },
        "outputId": "4af159e9-8e16-4a51-9401-c9dbac390a02"
      },
      "source": [
        "name + \" space \" + country        This syntax will concatenate strings"
      ],
      "execution_count": 299,
      "outputs": [
        {
          "output_type": "execute_result",
          "data": {
            "application/vnd.google.colaboratory.intrinsic+json": {
              "type": "string"
            },
            "text/plain": [
              "'Jeff Besos space INDIA'"
            ]
          },
          "metadata": {
            "tags": []
          },
          "execution_count": 299
        }
      ]
    },
    {
      "cell_type": "code",
      "metadata": {
        "id": "Et1faiphPRai",
        "colab_type": "code",
        "colab": {
          "base_uri": "https://localhost:8080/",
          "height": 35
        },
        "outputId": "feb0b0f5-ec17-4dd4-e76d-7a67628e7205"
      },
      "source": [
        "assets"
      ],
      "execution_count": 290,
      "outputs": [
        {
          "output_type": "execute_result",
          "data": {
            "application/vnd.google.colaboratory.intrinsic+json": {
              "type": "string"
            },
            "text/plain": [
              "'$200 Billion'"
            ]
          },
          "metadata": {
            "tags": []
          },
          "execution_count": 290
        }
      ]
    },
    {
      "cell_type": "code",
      "metadata": {
        "id": "A2x2rsK0PlXg",
        "colab_type": "code",
        "colab": {
          "base_uri": "https://localhost:8080/",
          "height": 35
        },
        "outputId": "65c88f75-98a6-4cb1-feb6-d6ae180a5b25"
      },
      "source": [
        "des"
      ],
      "execution_count": 288,
      "outputs": [
        {
          "output_type": "execute_result",
          "data": {
            "application/vnd.google.colaboratory.intrinsic+json": {
              "type": "string"
            },
            "text/plain": [
              "'CEO'"
            ]
          },
          "metadata": {
            "tags": []
          },
          "execution_count": 288
        }
      ]
    },
    {
      "cell_type": "code",
      "metadata": {
        "id": "zK-8lupbP7Dn",
        "colab_type": "code",
        "colab": {
          "base_uri": "https://localhost:8080/",
          "height": 35
        },
        "outputId": "51bc8d72-2a19-44ba-92a8-3eabf15af934"
      },
      "source": [
        "name"
      ],
      "execution_count": 291,
      "outputs": [
        {
          "output_type": "execute_result",
          "data": {
            "application/vnd.google.colaboratory.intrinsic+json": {
              "type": "string"
            },
            "text/plain": [
              "'Jeff Besos'"
            ]
          },
          "metadata": {
            "tags": []
          },
          "execution_count": 291
        }
      ]
    },
    {
      "cell_type": "markdown",
      "metadata": {
        "id": "dwOzINUjQ3MG",
        "colab_type": "text"
      },
      "source": [
        "**c) Getting Type - Any piece of information given in double qoutes(\"\")is always a string. Example Below.**"
      ]
    },
    {
      "cell_type": "code",
      "metadata": {
        "id": "kdID39u2QpvH",
        "colab_type": "code",
        "colab": {
          "base_uri": "https://localhost:8080/",
          "height": 34
        },
        "outputId": "47af053a-8f88-4226-b5b9-ac8b4a65f937"
      },
      "source": [
        "type(assets)            "
      ],
      "execution_count": 298,
      "outputs": [
        {
          "output_type": "execute_result",
          "data": {
            "text/plain": [
              "str"
            ]
          },
          "metadata": {
            "tags": []
          },
          "execution_count": 298
        }
      ]
    },
    {
      "cell_type": "markdown",
      "metadata": {
        "id": "GLNrqZRXpkKW",
        "colab_type": "text"
      },
      "source": [
        "**d) Updating strings**"
      ]
    },
    {
      "cell_type": "code",
      "metadata": {
        "id": "ETuE8DHLp1_z",
        "colab_type": "code",
        "colab": {
          "base_uri": "https://localhost:8080/",
          "height": 52
        },
        "outputId": "89e393df-b795-4c2d-be89-35613ebe1cf9"
      },
      "source": [
        "des = \"Director\"\n",
        "des"
      ],
      "execution_count": 383,
      "outputs": [
        {
          "output_type": "stream",
          "text": [
            "Director\n"
          ],
          "name": "stdout"
        },
        {
          "output_type": "execute_result",
          "data": {
            "application/vnd.google.colaboratory.intrinsic+json": {
              "type": "string"
            },
            "text/plain": [
              "'Director'"
            ]
          },
          "metadata": {
            "tags": []
          },
          "execution_count": 383
        }
      ]
    },
    {
      "cell_type": "markdown",
      "metadata": {
        "id": "AUXlvxSPqC5i",
        "colab_type": "text"
      },
      "source": [
        "**e) String formatting**"
      ]
    },
    {
      "cell_type": "code",
      "metadata": {
        "id": "6xPAkh3FqFXb",
        "colab_type": "code",
        "colab": {
          "base_uri": "https://localhost:8080/",
          "height": 35
        },
        "outputId": "e8a08ea8-b815-4f9a-8fb0-88aefcaba12f"
      },
      "source": [
        "\"My name is %s and weight is %d kg!\" % ('Joyeeta', 21)"
      ],
      "execution_count": 386,
      "outputs": [
        {
          "output_type": "execute_result",
          "data": {
            "application/vnd.google.colaboratory.intrinsic+json": {
              "type": "string"
            },
            "text/plain": [
              "'My name is Joyeeta and weight is 21 kg!'"
            ]
          },
          "metadata": {
            "tags": []
          },
          "execution_count": 386
        }
      ]
    }
  ]
}