{
  "nbformat": 4,
  "nbformat_minor": 0,
  "metadata": {
    "colab": {
      "name": "Assignment Day2-Batch 7",
      "provenance": []
    },
    "kernelspec": {
      "name": "python3",
      "display_name": "Python 3"
    }
  },
  "cells": [
    {
      "cell_type": "markdown",
      "metadata": {
        "id": "KXUvMGr4349V",
        "colab_type": "text"
      },
      "source": [
        "A LIST is like a container which can hold different data types. \n",
        "It is a complex data type which is derived from LIST of different objects.\n",
        "List objects are always stored in sequence order starting from 0,1,2,3...so on.\n",
        "Every object will have some particular method.\n",
        "\n"
      ]
    },
    {
      "cell_type": "code",
      "metadata": {
        "id": "rOiKKMn30UEj",
        "colab_type": "code",
        "colab": {
          "base_uri": "https://localhost:8080/",
          "height": 34
        },
        "outputId": "91c36bf8-a877-4f2c-8017-78e9f6538774"
      },
      "source": [
        "lst = ['apples', 11, 8123, 125.45, [7,8,9]]\n",
        "lst"
      ],
      "execution_count": 263,
      "outputs": [
        {
          "output_type": "execute_result",
          "data": {
            "text/plain": [
              "['apples', 11, 8123, 125.45, [7, 8, 9]]"
            ]
          },
          "metadata": {
            "tags": []
          },
          "execution_count": 263
        }
      ]
    },
    {
      "cell_type": "code",
      "metadata": {
        "id": "FK5SREqe2zB-",
        "colab_type": "code",
        "colab": {
          "base_uri": "https://localhost:8080/",
          "height": 34
        },
        "outputId": "dce8f82a-d2f3-474c-d569-c1a53212d5c3"
      },
      "source": [
        "lst[2]"
      ],
      "execution_count": 264,
      "outputs": [
        {
          "output_type": "execute_result",
          "data": {
            "text/plain": [
              "8123"
            ]
          },
          "metadata": {
            "tags": []
          },
          "execution_count": 264
        }
      ]
    },
    {
      "cell_type": "code",
      "metadata": {
        "id": "i-HdXytu27eG",
        "colab_type": "code",
        "colab": {
          "base_uri": "https://localhost:8080/",
          "height": 34
        },
        "outputId": "c0c58a3f-6976-46f6-8fa1-ef49c03a0908"
      },
      "source": [
        "lst[4][2]"
      ],
      "execution_count": 265,
      "outputs": [
        {
          "output_type": "execute_result",
          "data": {
            "text/plain": [
              "9"
            ]
          },
          "metadata": {
            "tags": []
          },
          "execution_count": 265
        }
      ]
    },
    {
      "cell_type": "markdown",
      "metadata": {
        "id": "tu_2-hpE6lkc",
        "colab_type": "text"
      },
      "source": [
        "Append Function - Suppose we want to add some more objects/values to our LIST then append function is used. It always adds the value in the end."
      ]
    },
    {
      "cell_type": "code",
      "metadata": {
        "id": "wT3gNHZ37Cv9",
        "colab_type": "code",
        "colab": {
          "base_uri": "https://localhost:8080/",
          "height": 34
        },
        "outputId": "d8842f97-66c6-4fa2-d58a-c6fa3f1b41f7"
      },
      "source": [
        "lst.append(\"coconut\")\n",
        "lst"
      ],
      "execution_count": 266,
      "outputs": [
        {
          "output_type": "execute_result",
          "data": {
            "text/plain": [
              "['apples', 11, 8123, 125.45, [7, 8, 9], 'coconut']"
            ]
          },
          "metadata": {
            "tags": []
          },
          "execution_count": 266
        }
      ]
    },
    {
      "cell_type": "markdown",
      "metadata": {
        "id": "phlurcnN9CAF",
        "colab_type": "text"
      },
      "source": [
        "Index Function - This function returns the value for specified position of an element in a sequence. It searches for given element from start of the list and returns the lowest index where the element appears."
      ]
    },
    {
      "cell_type": "code",
      "metadata": {
        "id": "u5ApqolA9tUO",
        "colab_type": "code",
        "colab": {
          "base_uri": "https://localhost:8080/",
          "height": 34
        },
        "outputId": "f4d2dadc-1b91-451e-bb4c-d5af7dba60f8"
      },
      "source": [
        "lst"
      ],
      "execution_count": 267,
      "outputs": [
        {
          "output_type": "execute_result",
          "data": {
            "text/plain": [
              "['apples', 11, 8123, 125.45, [7, 8, 9], 'coconut']"
            ]
          },
          "metadata": {
            "tags": []
          },
          "execution_count": 267
        }
      ]
    },
    {
      "cell_type": "code",
      "metadata": {
        "id": "Po0gz5fb-Lkr",
        "colab_type": "code",
        "colab": {
          "base_uri": "https://localhost:8080/",
          "height": 34
        },
        "outputId": "3635a817-b38d-4e3b-fdcb-fc1f72fc7f30"
      },
      "source": [
        "lst.index(125.45)"
      ],
      "execution_count": 274,
      "outputs": [
        {
          "output_type": "execute_result",
          "data": {
            "text/plain": [
              "3"
            ]
          },
          "metadata": {
            "tags": []
          },
          "execution_count": 274
        }
      ]
    },
    {
      "cell_type": "code",
      "metadata": {
        "id": "su5o8TUafnzm",
        "colab_type": "code",
        "colab": {
          "base_uri": "https://localhost:8080/",
          "height": 35
        },
        "outputId": "948ea0b5-aff4-416f-df5c-94467e3b7022"
      },
      "source": [
        "list[-1]\n"
      ],
      "execution_count": 243,
      "outputs": [
        {
          "output_type": "execute_result",
          "data": {
            "application/vnd.google.colaboratory.intrinsic+json": {
              "type": "string"
            },
            "text/plain": [
              "'coconut'"
            ]
          },
          "metadata": {
            "tags": []
          },
          "execution_count": 243
        }
      ]
    },
    {
      "cell_type": "code",
      "metadata": {
        "id": "1xgizqn3hAjN",
        "colab_type": "code",
        "colab": {
          "base_uri": "https://localhost:8080/",
          "height": 34
        },
        "outputId": "e0278c2b-3b7a-49f7-b70d-8f52ab197f2e"
      },
      "source": [
        "list[-5]"
      ],
      "execution_count": 245,
      "outputs": [
        {
          "output_type": "execute_result",
          "data": {
            "text/plain": [
              "11"
            ]
          },
          "metadata": {
            "tags": []
          },
          "execution_count": 245
        }
      ]
    },
    {
      "cell_type": "code",
      "metadata": {
        "id": "f0A-RI1thJU8",
        "colab_type": "code",
        "colab": {
          "base_uri": "https://localhost:8080/",
          "height": 34
        },
        "outputId": "948b2428-12bf-4c64-ffe4-67bb8db66da4"
      },
      "source": [
        "list[1]"
      ],
      "execution_count": 246,
      "outputs": [
        {
          "output_type": "execute_result",
          "data": {
            "text/plain": [
              "11"
            ]
          },
          "metadata": {
            "tags": []
          },
          "execution_count": 246
        }
      ]
    },
    {
      "cell_type": "code",
      "metadata": {
        "id": "9iqbbGOGhQ-c",
        "colab_type": "code",
        "colab": {
          "base_uri": "https://localhost:8080/",
          "height": 35
        },
        "outputId": "b60eab03-3e6d-4e4b-a293-ab598bebd48c"
      },
      "source": [
        "list[-1][2]"
      ],
      "execution_count": 247,
      "outputs": [
        {
          "output_type": "execute_result",
          "data": {
            "application/vnd.google.colaboratory.intrinsic+json": {
              "type": "string"
            },
            "text/plain": [
              "'c'"
            ]
          },
          "metadata": {
            "tags": []
          },
          "execution_count": 247
        }
      ]
    },
    {
      "cell_type": "markdown",
      "metadata": {
        "id": "KSUwfcBdiEmP",
        "colab_type": "text"
      },
      "source": [
        "DICTIONARY- It is a key value pair data structure. It is an object of Dictionary class in Python. It is expressed as (key:value). While the values can be of any data type and can repeat, keys must be of immutable type(string, number or Tuple) with immutable elements and must be unique.\n",
        "Syntax for retrieving value from a dictionary - dict.get('name')"
      ]
    },
    {
      "cell_type": "code",
      "metadata": {
        "id": "TWEr1un5jLd8",
        "colab_type": "code",
        "colab": {
          "base_uri": "https://localhost:8080/",
          "height": 102
        },
        "outputId": "0dcb25e7-d614-4683-a960-8e9878f52132"
      },
      "source": [
        "dict= {\"name\":\"Joyeeta\", \"Tel.No\":\"22816045\", \"Grades\":\"A+\", \"Rank\":\"1\", \"Dept\":\"MSME\"}\n",
        "dict"
      ],
      "execution_count": 248,
      "outputs": [
        {
          "output_type": "execute_result",
          "data": {
            "text/plain": [
              "{'Dept': 'MSME',\n",
              " 'Grades': 'A+',\n",
              " 'Rank': '1',\n",
              " 'Tel.No': '22816045',\n",
              " 'name': 'Joyeeta'}"
            ]
          },
          "metadata": {
            "tags": []
          },
          "execution_count": 248
        }
      ]
    },
    {
      "cell_type": "code",
      "metadata": {
        "id": "5cZnlVh0lnzk",
        "colab_type": "code",
        "colab": {
          "base_uri": "https://localhost:8080/",
          "height": 35
        },
        "outputId": "d829569c-fdfb-43d6-afb3-ed0164fa59f8"
      },
      "source": [
        "dict[\"name\"]"
      ],
      "execution_count": 249,
      "outputs": [
        {
          "output_type": "execute_result",
          "data": {
            "application/vnd.google.colaboratory.intrinsic+json": {
              "type": "string"
            },
            "text/plain": [
              "'Joyeeta'"
            ]
          },
          "metadata": {
            "tags": []
          },
          "execution_count": 249
        }
      ]
    },
    {
      "cell_type": "code",
      "metadata": {
        "id": "53Zxia1qm4vU",
        "colab_type": "code",
        "colab": {
          "base_uri": "https://localhost:8080/",
          "height": 34
        },
        "outputId": "4b6ba590-76a3-4e4d-a22e-b75ea31e322e"
      },
      "source": [
        "dict.items()"
      ],
      "execution_count": 250,
      "outputs": [
        {
          "output_type": "execute_result",
          "data": {
            "text/plain": [
              "dict_items([('name', 'Joyeeta'), ('Tel.No', '22816045'), ('Grades', 'A+'), ('Rank', '1'), ('Dept', 'MSME')])"
            ]
          },
          "metadata": {
            "tags": []
          },
          "execution_count": 250
        }
      ]
    },
    {
      "cell_type": "code",
      "metadata": {
        "id": "26sgHp_jns3b",
        "colab_type": "code",
        "colab": {
          "base_uri": "https://localhost:8080/",
          "height": 34
        },
        "outputId": "2b758fb9-f120-47d7-ec62-3b33c7f7d069"
      },
      "source": [
        "dict.keys()"
      ],
      "execution_count": 251,
      "outputs": [
        {
          "output_type": "execute_result",
          "data": {
            "text/plain": [
              "dict_keys(['name', 'Tel.No', 'Grades', 'Rank', 'Dept'])"
            ]
          },
          "metadata": {
            "tags": []
          },
          "execution_count": 251
        }
      ]
    },
    {
      "cell_type": "code",
      "metadata": {
        "id": "iUXbBF2gn6Dz",
        "colab_type": "code",
        "colab": {
          "base_uri": "https://localhost:8080/",
          "height": 35
        },
        "outputId": "e1f74c38-54e9-4e42-dad4-96d2df7544c4"
      },
      "source": [
        "dict.pop(\"name\")"
      ],
      "execution_count": 252,
      "outputs": [
        {
          "output_type": "execute_result",
          "data": {
            "application/vnd.google.colaboratory.intrinsic+json": {
              "type": "string"
            },
            "text/plain": [
              "'Joyeeta'"
            ]
          },
          "metadata": {
            "tags": []
          },
          "execution_count": 252
        }
      ]
    },
    {
      "cell_type": "code",
      "metadata": {
        "id": "_e1X0KVRoEH8",
        "colab_type": "code",
        "colab": {
          "base_uri": "https://localhost:8080/",
          "height": 34
        },
        "outputId": "1c5f4b8d-9294-4105-8934-085f70133e90"
      },
      "source": [
        "dict"
      ],
      "execution_count": 253,
      "outputs": [
        {
          "output_type": "execute_result",
          "data": {
            "text/plain": [
              "{'Dept': 'MSME', 'Grades': 'A+', 'Rank': '1', 'Tel.No': '22816045'}"
            ]
          },
          "metadata": {
            "tags": []
          },
          "execution_count": 253
        }
      ]
    },
    {
      "cell_type": "code",
      "metadata": {
        "id": "aXyEOnjWoQFr",
        "colab_type": "code",
        "colab": {
          "base_uri": "https://localhost:8080/",
          "height": 102
        },
        "outputId": "ad0d16b2-4979-4fb9-e439-a90ee2feee5b"
      },
      "source": [
        "dict[\"City\"]= \"Delhi\"  (This will add a new element to the dictionary)\n",
        "dict"
      ],
      "execution_count": null,
      "outputs": [
        {
          "output_type": "execute_result",
          "data": {
            "text/plain": [
              "{'City': 'Delhi',\n",
              " 'Dept': 'MSME',\n",
              " 'Grades': 'A+',\n",
              " 'Rank': '1',\n",
              " 'Tel.No': '22816045'}"
            ]
          },
          "metadata": {
            "tags": []
          },
          "execution_count": 254
        }
      ]
    },
    {
      "cell_type": "code",
      "metadata": {
        "id": "SmgiA7m0oyKa",
        "colab_type": "code",
        "colab": {
          "base_uri": "https://localhost:8080/",
          "height": 102
        },
        "outputId": "d17d690a-6b98-4999-da70-5a194962310c"
      },
      "source": [
        "type(dict)\n",
        "dict"
      ],
      "execution_count": 255,
      "outputs": [
        {
          "output_type": "execute_result",
          "data": {
            "text/plain": [
              "{'City': 'Delhi',\n",
              " 'Dept': 'MSME',\n",
              " 'Grades': 'A+',\n",
              " 'Rank': '1',\n",
              " 'Tel.No': '22816045'}"
            ]
          },
          "metadata": {
            "tags": []
          },
          "execution_count": 255
        }
      ]
    },
    {
      "cell_type": "markdown",
      "metadata": {
        "id": "UhwHq8HGpph6",
        "colab_type": "text"
      },
      "source": [
        "SETS - It is used in storing unique values in Python,\n",
        "Sets are complex data structures, Sets are a class in Python whose object can be derived in python. Sets are mostly used for findng UNION, disjoin, and finding commons and uncommons in Python data type."
      ]
    },
    {
      "cell_type": "code",
      "metadata": {
        "id": "58LILK4TqxNV",
        "colab_type": "code",
        "colab": {
          "base_uri": "https://localhost:8080/",
          "height": 34
        },
        "outputId": "e6a30f76-7922-4fb2-b055-7cebac4d3f48"
      },
      "source": [
        "set = {\"Joyeeta\", \"letsupgrade\",5,6,8,2,9,11,8,5,2 }\n",
        "set"
      ],
      "execution_count": 259,
      "outputs": [
        {
          "output_type": "execute_result",
          "data": {
            "text/plain": [
              "{11, 2, 5, 6, 8, 9, 'Joyeeta', 'letsupgrade'}"
            ]
          },
          "metadata": {
            "tags": []
          },
          "execution_count": 259
        }
      ]
    },
    {
      "cell_type": "code",
      "metadata": {
        "id": "eb2hGqiX6fjY",
        "colab_type": "code",
        "colab": {
          "base_uri": "https://localhost:8080/",
          "height": 34
        },
        "outputId": "56885674-3ac4-45b9-ea25-849e9946b008"
      },
      "source": [
        "set1 = {\"joyeeta\", 1}\n",
        "set1.issubset(set)"
      ],
      "execution_count": 258,
      "outputs": [
        {
          "output_type": "execute_result",
          "data": {
            "text/plain": [
              "False"
            ]
          },
          "metadata": {
            "tags": []
          },
          "execution_count": 258
        }
      ]
    }
  ]
}